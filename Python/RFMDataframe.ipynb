{
 "cells": [
  {
   "cell_type": "markdown",
   "id": "f7f2ef62-245e-4208-9116-bffeaa5e7887",
   "metadata": {},
   "source": [
    "# Creating Segments in Python"
   ]
  },
  {
   "cell_type": "code",
   "execution_count": 1,
   "id": "c8c23314-3f11-44a5-b66f-99353b97bb77",
   "metadata": {},
   "outputs": [],
   "source": [
    "import pandas as pd\n",
    "import numpy as np"
   ]
  },
  {
   "cell_type": "markdown",
   "id": "9dfc771d-76c6-4df5-8a00-b05253be6167",
   "metadata": {},
   "source": [
    "## Importing the data from CV using read_csv"
   ]
  },
  {
   "cell_type": "code",
   "execution_count": 3,
   "id": "ad937c28-7c36-4b83-9e5b-319a3a26972e",
   "metadata": {},
   "outputs": [],
   "source": [
    "df = pd.read_csv(\"/home/chinmay/SuperstoreProject/Data/SuperstoreCleanData.csv\", parse_dates=['orderdate'])"
   ]
  },
  {
   "cell_type": "markdown",
   "id": "da2728d7-0e87-4fcf-83ab-af33366a62f3",
   "metadata": {},
   "source": [
    "## Defining most recent order date"
   ]
  },
  {
   "cell_type": "code",
   "execution_count": 6,
   "id": "d38c185c-bf8a-4724-87bb-4df5356a5924",
   "metadata": {},
   "outputs": [],
   "source": [
    "today = df['orderdate'].max() + pd.Timedelta(days=1)"
   ]
  },
  {
   "cell_type": "markdown",
   "id": "70dbe653-0ec1-4bd8-a93c-1c4544e7493c",
   "metadata": {},
   "source": [
    "## Creating RFM analysis by grouping customers and calculating recency, frequency and monetary matrices"
   ]
  },
  {
   "cell_type": "code",
   "execution_count": 7,
   "id": "5b0d2fb4-d6dc-41dd-816f-9c0c9d2af6dc",
   "metadata": {},
   "outputs": [],
   "source": [
    "rfm = df.groupby('customerid').agg({\n",
    "    'orderdate': lambda x: (today - x.max()).days,\n",
    "    'orderid': 'nunique',\n",
    "    'sales': 'sum'\n",
    "}).rename(columns={'orderdate': 'recency', 'orderid': 'frequency', 'sales': 'monetary'})"
   ]
  },
  {
   "cell_type": "markdown",
   "id": "51ff7456-c36d-41e9-b66e-b33e7f73f4be",
   "metadata": {},
   "source": [
    "## Converting the raw values into standardized scores for easier customer segmentation (Scale of 1 to 5)"
   ]
  },
  {
   "cell_type": "code",
   "execution_count": 9,
   "id": "b80d168c-e130-4295-aee1-dc911132b6a8",
   "metadata": {},
   "outputs": [],
   "source": [
    "rfm['rscore'] = pd.qcut(rfm['recency'], 5, labels=range(5,0,-1))"
   ]
  },
  {
   "cell_type": "code",
   "execution_count": 10,
   "id": "0139252f-d24b-4068-b432-c71e03750706",
   "metadata": {},
   "outputs": [],
   "source": [
    "rfm['fscore'] = pd.qcut(rfm['frequency'].rank(method='first'), 5, labels=range(1,6))"
   ]
  },
  {
   "cell_type": "code",
   "execution_count": 11,
   "id": "42086057-f2ee-4dc2-8c73-c7fc3324adae",
   "metadata": {},
   "outputs": [],
   "source": [
    "rfm['mscore'] = pd.qcut(rfm['monetary'], 5, labels=range(1,6))\n"
   ]
  },
  {
   "cell_type": "markdown",
   "id": "272357ea-1c89-4b1a-8867-dd5db93ccc4a",
   "metadata": {},
   "source": [
    "## Defining function to assign customer segments based on their RFM scores"
   ]
  },
  {
   "cell_type": "code",
   "execution_count": 14,
   "id": "2ec88f94-b0ba-4c99-b978-668523e97aaa",
   "metadata": {},
   "outputs": [],
   "source": [
    "def segment(row):\n",
    "    if row['rscore'] >= 4 and row['fscore'] >= 4 and row['mscore'] >= 4:\n",
    "        return 'Champion'\n",
    "    elif row['rscore'] >= 3 and row['fscore'] >= 3:\n",
    "        return 'Loyal'\n",
    "    elif row['rscore'] <= 2:\n",
    "        return 'At Risk'\n",
    "    else:\n",
    "        return 'Regular'"
   ]
  },
  {
   "cell_type": "code",
   "execution_count": 15,
   "id": "1f0356f0-9a03-476a-b439-f1eca3559ccd",
   "metadata": {},
   "outputs": [],
   "source": [
    "rfm['segment'] = rfm.apply(segment, axis=1)"
   ]
  },
  {
   "cell_type": "markdown",
   "id": "dae5bd26-f35f-451f-97a9-93c5ffffeed5",
   "metadata": {},
   "source": [
    "## Merging the customer segments back into the original dataframe"
   ]
  },
  {
   "cell_type": "code",
   "execution_count": 17,
   "id": "d29001c0-c1af-466c-894b-271159a92f9a",
   "metadata": {},
   "outputs": [],
   "source": [
    "df = df.merge(rfm['segment'], left_on='customerid', right_index=True)"
   ]
  },
  {
   "cell_type": "markdown",
   "id": "267b533e-a3d5-4d8c-8563-c78674a965f1",
   "metadata": {},
   "source": [
    "## Saving the enhanced dataframe (now containing customer segments) to a CSV file."
   ]
  },
  {
   "cell_type": "code",
   "execution_count": 18,
   "id": "a103f3f2-fedf-4c98-953a-4ec4e6896f7d",
   "metadata": {},
   "outputs": [],
   "source": [
    "df.to_csv(\"/home/chinmay/SuperstoreProject/Data/SuperstoreCleanDataWithSegment.csv\", index=False)"
   ]
  }
 ],
 "metadata": {
  "kernelspec": {
   "display_name": "Python 3 (ipykernel)",
   "language": "python",
   "name": "python3"
  },
  "language_info": {
   "codemirror_mode": {
    "name": "ipython",
    "version": 3
   },
   "file_extension": ".py",
   "mimetype": "text/x-python",
   "name": "python",
   "nbconvert_exporter": "python",
   "pygments_lexer": "ipython3",
   "version": "3.13.5"
  }
 },
 "nbformat": 4,
 "nbformat_minor": 5
}
